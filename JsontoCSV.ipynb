{
  "nbformat": 4,
  "nbformat_minor": 0,
  "metadata": {
    "colab": {
      "provenance": []
    },
    "kernelspec": {
      "name": "python3",
      "display_name": "Python 3"
    },
    "language_info": {
      "name": "python"
    }
  },
  "cells": [
    {
      "cell_type": "code",
      "source": [
        "import json\n",
        "import csv\n",
        "\n",
        "def json_to_csv(json_file, csv_file):\n",
        "    # Open the JSON file and load the data\n",
        "    with open(json_file, 'r') as jfile:\n",
        "        try:\n",
        "            data = json.load(jfile)\n",
        "        except json.JSONDecodeError as e:\n",
        "            print(f\"Error decoding JSON: {e}\")\n",
        "            return\n",
        "\n",
        "    # Open the CSV file in write mode\n",
        "    with open(csv_file, 'w', newline='') as cfile:\n",
        "        writer = csv.writer(cfile)\n",
        "\n",
        "        # Write the headers based on the keys of the first object\n",
        "        headers = list(data[0].keys())\n",
        "        writer.writerow(headers)\n",
        "\n",
        "        # Write the data to CSV\n",
        "        for item in data:\n",
        "            writer.writerow(item.values())\n",
        "\n",
        "    print(f\"JSON data successfully converted to CSV and saved as {csv_file}\")\n",
        "\n",
        "# Example usage\n",
        "json_file = '/content/dhs.channels.json'\n",
        "csv_file = 'dhs.channels.csv'\n",
        "json_to_csv(json_file, csv_file)\n"
      ],
      "metadata": {
        "colab": {
          "base_uri": "https://localhost:8080/"
        },
        "id": "feaAWZ4PkNI0",
        "outputId": "9193e557-f995-4268-a429-c26e9b8fc643"
      },
      "execution_count": 9,
      "outputs": [
        {
          "output_type": "stream",
          "name": "stdout",
          "text": [
            "JSON data successfully converted to CSV and saved as dhs.channels.csv\n"
          ]
        }
      ]
    }
  ]
}