{
  "nbformat": 4,
  "nbformat_minor": 0,
  "metadata": {
    "colab": {
      "provenance": [],
      "mount_file_id": "1fXdUm_3ppDgPOHkGo9Ssb4-soStRBxdt",
      "authorship_tag": "ABX9TyPfkwwTWl0bIZK2oydWAaJs",
      "include_colab_link": true
    },
    "kernelspec": {
      "name": "python3",
      "display_name": "Python 3"
    },
    "language_info": {
      "name": "python"
    }
  },
  "cells": [
    {
      "cell_type": "markdown",
      "metadata": {
        "id": "view-in-github",
        "colab_type": "text"
      },
      "source": [
        "<a href=\"https://colab.research.google.com/github/kavindu26589/File_Convert/blob/main/Image_Converter.ipynb\" target=\"_parent\"><img src=\"https://colab.research.google.com/assets/colab-badge.svg\" alt=\"Open In Colab\"/></a>"
      ]
    },
    {
      "cell_type": "code",
      "execution_count": null,
      "metadata": {
        "id": "8Mb2FdrCWvwU"
      },
      "outputs": [],
      "source": []
    },
    {
      "cell_type": "code",
      "source": [
        "from google.colab import drive\n",
        "drive.mount('/content/drive')"
      ],
      "metadata": {
        "colab": {
          "base_uri": "https://localhost:8080/"
        },
        "id": "rnt-usk4WzmD",
        "outputId": "2683ee00-f0ff-4cf5-8256-82fa6f2cc94c"
      },
      "execution_count": 1,
      "outputs": [
        {
          "output_type": "stream",
          "name": "stdout",
          "text": [
            "Mounted at /content/drive\n"
          ]
        }
      ]
    },
    {
      "cell_type": "code",
      "source": [
        "!pip install Pillow\n"
      ],
      "metadata": {
        "colab": {
          "base_uri": "https://localhost:8080/"
        },
        "id": "KXBDgnMIW9CH",
        "outputId": "24be6823-a88e-4936-aa95-c8bc37fb9029"
      },
      "execution_count": 2,
      "outputs": [
        {
          "output_type": "stream",
          "name": "stdout",
          "text": [
            "Requirement already satisfied: Pillow in /usr/local/lib/python3.10/dist-packages (9.4.0)\n"
          ]
        }
      ]
    },
    {
      "cell_type": "code",
      "source": [
        "import os\n",
        "from PIL import Image\n",
        "\n",
        "# Define the paths\n",
        "input_folder = '/content/drive/MyDrive/Images'  # Replace with the path to your input folder\n",
        "output_folder = '/content/drive/MyDrive/Images'  # Replace with the path to your output folder\n",
        "\n",
        "# Ensure the output folder exists\n",
        "if not os.path.exists(output_folder):\n",
        "    os.makedirs(output_folder)\n",
        "\n",
        "# Iterate over all files in the input folder\n",
        "for filename in os.listdir(input_folder):\n",
        "    if filename.lower().endswith('.png'):\n",
        "        # Construct full file path\n",
        "        input_path = os.path.join(input_folder, filename)\n",
        "        output_filename = os.path.splitext(filename)[0] + '.jpeg'\n",
        "        output_path = os.path.join(output_folder, output_filename)\n",
        "\n",
        "        # Open the PNG image\n",
        "        with Image.open(input_path) as png_image:\n",
        "            # Convert the image to RGB mode (JPEG does not support transparency)\n",
        "            rgb_image = png_image.convert('RGB')\n",
        "            # Save the image in JPEG format\n",
        "            rgb_image.save(output_path, 'JPEG')\n",
        "\n",
        "        print(f\"Converted {input_path} to {output_path}\")\n"
      ],
      "metadata": {
        "colab": {
          "base_uri": "https://localhost:8080/"
        },
        "id": "eiuXAy8zW9JN",
        "outputId": "6524b15b-bed8-4278-9933-5372296f0dcd"
      },
      "execution_count": 3,
      "outputs": [
        {
          "output_type": "stream",
          "name": "stdout",
          "text": [
            "Converted /content/drive/MyDrive/Images/M1 1333x2000.png to /content/drive/MyDrive/Images/M1 1333x2000.jpeg\n",
            "Converted /content/drive/MyDrive/Images/M1 1920x1080.png to /content/drive/MyDrive/Images/M1 1920x1080.jpeg\n",
            "Converted /content/drive/MyDrive/Images/M2 1333x2000.png to /content/drive/MyDrive/Images/M2 1333x2000.jpeg\n",
            "Converted /content/drive/MyDrive/Images/M2 1920x1080.png to /content/drive/MyDrive/Images/M2 1920x1080.jpeg\n"
          ]
        }
      ]
    },
    {
      "cell_type": "code",
      "source": [
        "import os\n",
        "from PIL import Image\n",
        "\n",
        "# Define the paths\n",
        "input_folder = '/content/drive/My Drive/input_folder'  # Replace with the path to your input folder\n",
        "output_folder = '/content/drive/My Drive/output_folder'  # Replace with the path to your output folder\n",
        "\n",
        "# Ensure the output folder exists\n",
        "if not os.path.exists(output_folder):\n",
        "    os.makedirs(output_folder)\n",
        "\n",
        "# Iterate over all files in the input folder\n",
        "for filename in os.listdir(input_folder):\n",
        "    if filename.lower().endswith('.jpg'):\n",
        "        # Construct full file path\n",
        "        input_path = os.path.join(input_folder, filename)\n",
        "        output_filename = os.path.splitext(filename)[0] + '.jpeg'\n",
        "        output_path = os.path.join(output_folder, output_filename)\n",
        "\n",
        "        # Open the JPG image\n",
        "        with Image.open(input_path) as jpg_image:\n",
        "            # Convert the image to RGB mode (if not already in RGB)\n",
        "            rgb_image = jpg_image.convert('RGB')\n",
        "            # Save the image in JPEG format\n",
        "            rgb_image.save(output_path, 'JPEG')\n",
        "\n",
        "        print(f\"Converted {input_path} to {output_path}\")\n"
      ],
      "metadata": {
        "id": "1lB5uNnjXl0n"
      },
      "execution_count": null,
      "outputs": []
    }
  ]
}